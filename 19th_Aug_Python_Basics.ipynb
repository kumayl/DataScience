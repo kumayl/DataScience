{
 "cells": [
  {
   "cell_type": "code",
   "execution_count": 9,
   "id": "babe63d6-23db-455e-b4f6-41bb3f2b2bf5",
   "metadata": {},
   "outputs": [
    {
     "name": "stdout",
     "output_type": "stream",
     "text": [
      "72 36\n"
     ]
    }
   ],
   "source": [
    "\"\"\"Code to Swap the values of 2 numbers with out Temp\"\"\"\n",
    "x=36\n",
    "y=72\n",
    "\n",
    "x=x+y\n",
    "y=x-y\n",
    "x=x-y\n",
    "print (x,y)\n"
   ]
  },
  {
   "cell_type": "code",
   "execution_count": 14,
   "id": "7b0cdc2f-e62d-404b-be41-35c9312feb64",
   "metadata": {},
   "outputs": [
    {
     "name": "stdin",
     "output_type": "stream",
     "text": [
      "Enter the length value : 10\n",
      "Enter the height value:  12\n"
     ]
    },
    {
     "name": "stdout",
     "output_type": "stream",
     "text": [
      "Area of rectangle= 120\n"
     ]
    }
   ],
   "source": [
    "\"Program to Calculate area of rectangle\"\n",
    "l=int(input(\"Enter the length value :\"))\n",
    "h=int(input(\"Enter the height value: \"))\n",
    "area=(l*h)\n",
    "print(\"Area of rectangle=\",area)\n"
   ]
  },
  {
   "cell_type": "code",
   "execution_count": 15,
   "id": "a4716dc6-f4bc-46e2-a95b-be49d1c1f3d0",
   "metadata": {},
   "outputs": [
    {
     "name": "stdin",
     "output_type": "stream",
     "text": [
      "Enter the temperature in Celsius:  100\n"
     ]
    },
    {
     "name": "stdout",
     "output_type": "stream",
     "text": [
      "212.0\n"
     ]
    }
   ],
   "source": [
    "\"\"\"Program to convert temperatures from Celsius to Fahrenheit\"\"\"\n",
    "C=int(input(\"Enter the temperature in Celsius: \"))\n",
    "F=(C*9/5+32)\n",
    "print (F)          "
   ]
  },
  {
   "cell_type": "code",
   "execution_count": 17,
   "id": "e167b2dd-a938-4d5c-af84-15213035e0dd",
   "metadata": {},
   "outputs": [
    {
     "name": "stdin",
     "output_type": "stream",
     "text": [
      "Enter the string:  hello\n"
     ]
    },
    {
     "name": "stdout",
     "output_type": "stream",
     "text": [
      "Length of String is 5\n"
     ]
    }
   ],
   "source": [
    "\"Program to take the string as input and print the length of String\"\n",
    "a=input(\"Enter the string: \")\n",
    "print(\"Length of String is\",len(a))"
   ]
  },
  {
   "cell_type": "code",
   "execution_count": 35,
   "id": "5d598581-fef5-42b6-badc-1b98a2b5078c",
   "metadata": {},
   "outputs": [
    {
     "name": "stdin",
     "output_type": "stream",
     "text": [
      "Enter the sentence: Hello How are you doing?\n"
     ]
    },
    {
     "name": "stdout",
     "output_type": "stream",
     "text": [
      "9\n"
     ]
    }
   ],
   "source": [
    "\"\"\"Create a program that takes a sentence from the user and counts the number\n",
    "of vowels (a, e, i, o, u) in the string.\"\"\"\n",
    "vow=0\n",
    "sen=input(\"Enter the sentence:\")\n",
    "for char in sen:\n",
    "    if char in(\"aeiou\"):\n",
    "        vow=vow+1\n",
    "print (vow)"
   ]
  },
  {
   "cell_type": "code",
   "execution_count": 41,
   "id": "a2a52419-3d46-4fa0-a2d3-399954785207",
   "metadata": {},
   "outputs": [
    {
     "name": "stdout",
     "output_type": "stream",
     "text": [
      "sllikswp\n"
     ]
    }
   ],
   "source": [
    "\"\"\"Given a string, reverse the order of characters using string slicing and print\n",
    "the reversed string.\"\"\"\n",
    "str1=\"pwskills\"\n",
    "print(str1[::-1])"
   ]
  },
  {
   "cell_type": "code",
   "execution_count": 47,
   "id": "701dacae-a433-4a03-b5eb-ba0b1e42a3c6",
   "metadata": {},
   "outputs": [
    {
     "name": "stdin",
     "output_type": "stream",
     "text": [
      "Enter a stricng to check if pallindrome or not: malayalam\n"
     ]
    },
    {
     "name": "stdout",
     "output_type": "stream",
     "text": [
      "It is Pallindrome\n"
     ]
    }
   ],
   "source": [
    "\"\"\"Write a program that takes a string as input and checks if it is a palindrome\n",
    "(reads the same forwards and backwards)\"\"\"\n",
    "Str1=input(\"Enter a stricng to check if pallindrome or not:\")\n",
    "if Str1==Str1[::-1]:\n",
    "    print(\"It is Pallindrome\")\n",
    "else:\n",
    "    print(\"It is not Pallindrome\")"
   ]
  },
  {
   "cell_type": "code",
   "execution_count": 50,
   "id": "9bad2d7c-5338-4d75-9c6c-0efae377d2eb",
   "metadata": {},
   "outputs": [
    {
     "name": "stdin",
     "output_type": "stream",
     "text": [
      "Enter any string: hello hi\n"
     ]
    },
    {
     "name": "stdout",
     "output_type": "stream",
     "text": [
      "hellohi\n"
     ]
    }
   ],
   "source": [
    "\"\"\"Create a program that takes a string as input and removes all the spaces from\n",
    "it. Print the modified string without spaces.\"\"\"\n",
    "Str1=input(\"Enter any string:\")\n",
    "Str1=Str1.replace(' ','')\n",
    "print(Str1)\n"
   ]
  },
  {
   "cell_type": "code",
   "execution_count": null,
   "id": "80f40bee-f5e3-4d08-9481-3db430de2766",
   "metadata": {},
   "outputs": [],
   "source": []
  }
 ],
 "metadata": {
  "kernelspec": {
   "display_name": "Python 3 (ipykernel)",
   "language": "python",
   "name": "python3"
  },
  "language_info": {
   "codemirror_mode": {
    "name": "ipython",
    "version": 3
   },
   "file_extension": ".py",
   "mimetype": "text/x-python",
   "name": "python",
   "nbconvert_exporter": "python",
   "pygments_lexer": "ipython3",
   "version": "3.10.8"
  }
 },
 "nbformat": 4,
 "nbformat_minor": 5
}
